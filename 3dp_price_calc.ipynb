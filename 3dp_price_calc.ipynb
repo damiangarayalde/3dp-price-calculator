{
 "cells": [
  {
   "cell_type": "markdown",
   "metadata": {},
   "source": [
    "# App that calculates the price of a printed part.\n"
   ]
  },
  {
   "cell_type": "code",
   "execution_count": 36,
   "metadata": {},
   "outputs": [],
   "source": [
    "#from dotenv import load_dotenv\n",
    "import os  \n",
    "from dotenv import load_dotenv\n",
    "load_dotenv(override=True) \n",
    "\n",
    "\n",
    "\n",
    "# High level definitions of costs and constants\n",
    "usd_conv = 1300  # $ / usd\n",
    "\n",
    "MARGIN = float(os.environ['MARGIN_PERCENTAGE_BEFORE_TAXES']) # part of the cost (before taxes) that is pure gain\n",
    "\n",
    "# Material related costs\n",
    "material_unit_price = 19  # usd / kg\n",
    "# here we could add some consumable as platform sheet / hotend replacement / bowden tube deterioration\n",
    "\n",
    "# Printer related costs\n",
    "PRINTER_COST                    = float(os.environ['PRINTER_COST_IN_USD'])\n",
    "PRINTER_LIFETIME_IN_YEARS       = float(os.environ['PRINTER_WORKING_LIFETIME_IN_YEARS'])\n",
    "printer_lifetime_in_min         = PRINTER_LIFETIME_IN_YEARS * 365.0 * 24 * 60\n",
    "success_rate                    = 0.8  # it represents the % of times the print results in success\n",
    "lifetime_working_min            = printer_lifetime_in_min * success_rate\n",
    "printing_time_cost_by_min       = PRINTER_COST / lifetime_working_min  # usd / min\n",
    "\n",
    "# Personnel costs:\n",
    "SLICER_TECHNICIAN_HOURLY_RATE   = float(os.environ['TECHNICIAN_HOURLY_RATE'])\n",
    "ENGINEER_HOURLY_RATE            = float(os.environ['ENGINEER_HOURLY_RATE'])"
   ]
  },
  {
   "cell_type": "code",
   "execution_count": 43,
   "metadata": {},
   "outputs": [],
   "source": [
    "# Sliced part attributes:\n",
    "\n",
    "printing_time = float( 9*60 ) # min 500gr  y 11.5*60 min\n",
    "material_gr         = float( 600 )  # gr\n",
    "\n",
    "material_difficulty_factor = 1 # for materials that may have issues printing or require special care\n",
    "postprocessing_support = 'False' \n",
    "\n",
    "slicing_time        = 40 #+ 10*printing_time/60   # min\n",
    "engineering_time    = 10   # min"
   ]
  },
  {
   "cell_type": "code",
   "execution_count": 46,
   "metadata": {},
   "outputs": [],
   "source": [
    "\n",
    "# to estimate the printing time cost a simple investement calculation is done \n",
    "\n",
    "employees_cost              = slicing_time  * SLICER_TECHNICIAN_HOURLY_RATE / 60    +  engineering_time * ENGINEER_HOURLY_RATE / 60\n",
    "equipment_depreciation_cost = printing_time * printing_time_cost_by_min\n",
    "material_cost               = material_gr   * material_unit_price / 1000  \n",
    "#--------------------------------------------------------------------------------------------\n",
    "total_cost                  = employees_cost + equipment_depreciation_cost + material_cost\n",
    "price                       = total_cost/(1-MARGIN/100.0)\n"
   ]
  },
  {
   "cell_type": "code",
   "execution_count": 47,
   "metadata": {},
   "outputs": [
    {
     "name": "stdout",
     "output_type": "stream",
     "text": [
      " Cost: $ 35 \t $Arg 45829\n",
      " Price: $ 35 \t $Arg 65469\n",
      " Partial costs: \n",
      " - Employees: \t 57%  \t USD 20.0 \t $Arg 26000.0\n",
      " - Equip_depx: \t 11%  \t USD 3.9 \t $Arg 5008.6\n",
      " - Material:  \t 32%  \t USD 11.4 \t $Arg 14820.0\n"
     ]
    }
   ],
   "source": [
    "# Print the calculations\n",
    "\n",
    "print(\n",
    "    f''' Cost: $ {\"%.0f\" % total_cost} \\t $Arg {\"%.0f\" % (total_cost*usd_conv)}''')\n",
    "print(\n",
    "    f''' Price: $ {\"%.0f\" % total_cost} \\t $Arg {\"%.0f\" % (price*usd_conv)}''')\n",
    "\n",
    "print(\" Partial costs: \")\n",
    "print(\n",
    "    f''' - Employees: \\t {\"%.0f\" % ( employees_cost*100/total_cost)}%  \\t USD {employees_cost} \\t $Arg {employees_cost*usd_conv}''')\n",
    "print(f''' - Equip_depx: \\t {\"%.0f\" % ( equipment_depreciation_cost*100/total_cost)}%  \\t USD {\"%.1f\" % equipment_depreciation_cost} \\t $Arg {\"%.1f\" % ( equipment_depreciation_cost*usd_conv)}''')\n",
    "print(\n",
    "    f''' - Material:  \\t {\"%.0f\" % ( material_cost*100/total_cost)}%  \\t USD {material_cost} \\t $Arg {material_cost*usd_conv}''')"
   ]
  }
 ],
 "metadata": {
  "kernelspec": {
   "display_name": "gazetracking",
   "language": "python",
   "name": "python3"
  },
  "language_info": {
   "codemirror_mode": {
    "name": "ipython",
    "version": 3
   },
   "file_extension": ".py",
   "mimetype": "text/x-python",
   "name": "python",
   "nbconvert_exporter": "python",
   "pygments_lexer": "ipython3",
   "version": "3.8.17"
  }
 },
 "nbformat": 4,
 "nbformat_minor": 2
}
