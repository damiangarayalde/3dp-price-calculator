{
 "cells": [
  {
   "cell_type": "markdown",
   "metadata": {},
   "source": [
    "# App that calculates the price of a printed part.\n"
   ]
  },
  {
   "cell_type": "code",
   "execution_count": 11,
   "metadata": {},
   "outputs": [],
   "source": [
    "# High level definitions of costs and constants\n",
    "\n",
    "usd_conv = 1300  # $ / usd\n",
    "\n",
    "# Material and printer\n",
    "material_unit_price = 19     #  usd / kg\n",
    "margin = 30 # % part of the cost that is pure gain\n",
    "\n",
    "printer_cost = 3000  # usd\n",
    "printer_lifetime_in_years = 1\n",
    "printer_lifetime_in_min = printer_lifetime_in_years * 365 * 24 * 60\n",
    "success_rate = 0.8  # it represents the % of times the print results in success\n",
    "\n",
    "total_printing_min_given_a_printer_lifetime = printer_lifetime_in_min * success_rate\n",
    "\n",
    "printing_time_cost_by_min = printer_cost /  total_printing_min_given_a_printer_lifetime  # usd / min\n",
    "\n",
    "\n",
    "# Personnel:\n",
    "slicer__tech_rate   = 20  #  usd / hs \n",
    "engineer_rate       = 40  #  usd / hs\n",
    "designer_rate       = 30  #  usd / hs"
   ]
  },
  {
   "cell_type": "code",
   "execution_count": 14,
   "metadata": {},
   "outputs": [],
   "source": [
    "# Sliced part attributes:\n",
    "\n",
    "printing_time = 9*60 # min 500gr  y 11.5*60 min\n",
    "material_gr         = 600  # gr\n",
    "\n",
    "material_difficulty_factor = 1 # for materials that may have issues printing or require special care\n",
    "postprocessing_support = 'False' \n",
    "\n",
    "slicing_time        = 40 #+ 10*printing_time/60   # min\n",
    "engineering_time    = 10   # min"
   ]
  },
  {
   "cell_type": "code",
   "execution_count": 15,
   "metadata": {},
   "outputs": [
    {
     "name": "stdout",
     "output_type": "stream",
     "text": [
      " Cost: $ 35 \t $Arg 45829\n",
      " Price: $ 35 \t $Arg 65469\n",
      " Partial costs: \n",
      " - Employees: \t 57%  \t USD 20.0 \t $Arg 26000.0\n",
      " - Equip_depx: \t 11%  \t USD 3.9 \t $Arg 5008.6\n",
      " - Material:  \t 32%  \t USD 11.4 \t $Arg 14820.0\n"
     ]
    }
   ],
   "source": [
    "\n",
    "# to estimate the printing time cost a simple investement calculation is done \n",
    "\n",
    "employees_cost              = slicing_time  * slicer__tech_rate / 60    +  engineering_time * engineer_rate / 60\n",
    "equipment_depreciation_cost = printing_time * printing_time_cost_by_min\n",
    "material_cost               = material_gr   * material_unit_price / 1000  \n",
    "#--------------------------------------------------------------------------------------------\n",
    "total_cost                  = employees_cost + equipment_depreciation_cost + material_cost\n",
    "price                       = total_cost/(1-margin/100.0)\n",
    "\n",
    "print(f''' Cost: $ {\"%.0f\" % total_cost} \\t $Arg {\"%.0f\" % (total_cost*usd_conv)}''')\n",
    "print(f''' Price: $ {\"%.0f\" % total_cost} \\t $Arg {\"%.0f\" % (price*usd_conv)}''')\n",
    "\n",
    "print(\" Partial costs: \")\n",
    "print( f''' - Employees: \\t {\"%.0f\" % ( employees_cost*100/total_cost)}%  \\t USD {employees_cost} \\t $Arg {employees_cost*usd_conv}''')\n",
    "print(f''' - Equip_depx: \\t {\"%.0f\" % ( equipment_depreciation_cost*100/total_cost)}%  \\t USD {\"%.1f\" % equipment_depreciation_cost} \\t $Arg {\"%.1f\" % ( equipment_depreciation_cost*usd_conv)}''')\n",
    "print(\n",
    "    f''' - Material:  \\t {\"%.0f\" % ( material_cost*100/total_cost)}%  \\t USD {material_cost} \\t $Arg {material_cost*usd_conv}''')"
   ]
  },
  {
   "cell_type": "code",
   "execution_count": 16,
   "metadata": {},
   "outputs": [
    {
     "name": "stdout",
     "output_type": "stream",
     "text": [
      "Designer cost:  USD 180 \t $Arg 234000\n",
      "Design price:  USD 257.14285714285717 \t $Arg 334285.7142857143\n"
     ]
    }
   ],
   "source": [
    "# Estimacion de diseno \n",
    "\n",
    "design_hrs = 6\n",
    "\n",
    "design_cost = design_hrs * designer_rate\n",
    "design_price = design_cost/(1-margin/100.0)\n",
    "\n",
    "print(f'''Designer cost:  USD {design_cost} \\t $Arg {design_cost*usd_conv}''')\n",
    "print(f'''Design price:  USD {design_price} \\t $Arg {design_price*usd_conv}''')"
   ]
  },
  {
   "cell_type": "code",
   "execution_count": 108,
   "metadata": {},
   "outputs": [
    {
     "name": "stdout",
     "output_type": "stream",
     "text": [
      " My Rate: 33.333333333333336\n"
     ]
    }
   ],
   "source": [
    "monthly_salary_goal = 4000 \n",
    "daily_time_invested = 6 \n",
    "monthly_time_invested = 20*daily_time_invested\n",
    "my_desired_rate = monthly_salary_goal / monthly_time_invested\n",
    "\n",
    "print(f''' My Rate: {my_desired_rate}''')"
   ]
  },
  {
   "cell_type": "code",
   "execution_count": null,
   "metadata": {},
   "outputs": [],
   "source": [
    "vamos a registrar aca las cotizaciones que me pasaron y los datos que encuentro de comparar con mi info\n",
    "\n",
    "#----------------------------------------\n",
    "# Conjunto uA_v20240613\n",
    "\n",
    "# Solidos: 43k $\n",
    "100gr 120min + 156gt +4.5*60 hs + 240gr y 5hs\n",
    "\n",
    "= 500gr  y 11.5*60 min\n",
    "\n",
    "para que me diera esto tube que subir el tiempo del tec de sliceo como a 40min y duplicar el tiempo de impresion. La velocidad de la impresora parece ser la posta aca.\n",
    "\n",
    "\n",
    "#----------------------------------------\n",
    "# Third ondulada:\n",
    "\n",
    "el sliceo da 180min y 40gr\n",
    "\n",
    "# Solidos: 8k$\n",
    "\n",
    "tuve que configurar el tiempo de slicing en 10min\n",
    "\n",
    "Total Cost: $ 9 \t $Arg 8711\n",
    " Partial costs: \n",
    " - Employees: \t 77%  \t USD 6.666666666666667 \t $Arg 6666.666666666667\n",
    " - Equip_depx: \t 15%  \t USD 1.3 \t $Arg 1284.2\n",
    " - Material:  \t 9%  \t USD 0.76 \t $Arg 760.0"
   ]
  }
 ],
 "metadata": {
  "kernelspec": {
   "display_name": "gazetracking",
   "language": "python",
   "name": "python3"
  },
  "language_info": {
   "codemirror_mode": {
    "name": "ipython",
    "version": 3
   },
   "file_extension": ".py",
   "mimetype": "text/x-python",
   "name": "python",
   "nbconvert_exporter": "python",
   "pygments_lexer": "ipython3",
   "version": "3.8.17"
  }
 },
 "nbformat": 4,
 "nbformat_minor": 2
}
