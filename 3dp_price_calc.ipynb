{
 "cells": [
  {
   "cell_type": "markdown",
   "metadata": {},
   "source": [
    "# App that calculates the price of a printed part.\n"
   ]
  },
  {
   "cell_type": "code",
   "execution_count": 117,
   "metadata": {},
   "outputs": [],
   "source": [
    "# High level definitions of costs and constants\n",
    "\n",
    "usd_conv = 1000  # $ / usd\n",
    "\n",
    "# Material and printer\n",
    "material_unit_price = 19     #  usd / kg\n",
    "\n",
    "printer_cost = 3000  # usd\n",
    "printer_lifetime_in_years = 1\n",
    "printer_lifetime_in_min = printer_lifetime_in_years * 365 * 24 * 60\n",
    "success_rate = 0.8  # it represents the % of times the print results in success\n",
    "\n",
    "total_printing_min_given_a_printer_lifetime = printer_lifetime_in_min * success_rate\n",
    "\n",
    "printing_time_cost_by_min = printer_cost /  total_printing_min_given_a_printer_lifetime  # usd / min\n",
    "\n",
    "\n",
    "# Personnel:\n",
    "slicer__tech_rate   = 20  #  usd / hs \n",
    "engineer_rate       = 40  #  usd / hs\n",
    "designer_rate       = 30  #  usd / hs"
   ]
  },
  {
   "cell_type": "code",
   "execution_count": 122,
   "metadata": {},
   "outputs": [],
   "source": [
    "# Sliced part attributes:\n",
    "\n",
    "printing_time = 20*60 # min 500gr  y 11.5*60 min\n",
    "material_gr         = 800  # gr\n",
    "\n",
    "material_difficulty_factor = 1 # for materials that may have issues printing or require special care\n",
    "postprocessing_support = 'False' \n",
    "\n",
    "slicing_time        = 40   # min\n",
    "engineering_time    = 10   # min"
   ]
  },
  {
   "cell_type": "code",
   "execution_count": 123,
   "metadata": {},
   "outputs": [
    {
     "name": "stdout",
     "output_type": "stream",
     "text": [
      " Total Cost: $ 44 \t $Arg 43762\n",
      " Partial costs: \n",
      " - Employees: \t 46%  \t USD 20.0 \t $Arg 20000.0\n",
      " - Equip_depx: \t 20%  \t USD 8.6 \t $Arg 8561.6\n",
      " - Material:  \t 35%  \t USD 15.2 \t $Arg 15200.0\n"
     ]
    }
   ],
   "source": [
    "\n",
    "# to estimate the printing time cost a simple investement calculation is done \n",
    "\n",
    "employees_cost              = slicing_time  * slicer__tech_rate / 60    +  engineering_time * engineer_rate / 60\n",
    "equipment_depreciation_cost = printing_time * printing_time_cost_by_min\n",
    "material_cost               = material_gr   * material_unit_price / 1000  \n",
    "#--------------------------------------------------------------------------------------------\n",
    "total_cost                  = employees_cost + equipment_depreciation_cost + material_cost\n",
    "\n",
    "\n",
    "print(\n",
    "    f''' Total Cost: $ {\"%.0f\" % total_cost} \\t $Arg {\"%.0f\" % (total_cost*usd_conv)}''')\n",
    "\n",
    "print(\" Partial costs: \")\n",
    "print( f''' - Employees: \\t {\"%.0f\" % ( employees_cost*100/total_cost)}%  \\t USD {employees_cost} \\t $Arg {employees_cost*usd_conv}''')\n",
    "print(f''' - Equip_depx: \\t {\"%.0f\" % ( equipment_depreciation_cost*100/total_cost)}%  \\t USD {\"%.1f\" % equipment_depreciation_cost} \\t $Arg {\"%.1f\" % ( equipment_depreciation_cost*usd_conv)}''')\n",
    "print(\n",
    "    f''' - Material:  \\t {\"%.0f\" % ( material_cost*100/total_cost)}%  \\t USD {material_cost} \\t $Arg {material_cost*usd_conv}''')"
   ]
  }
 ],
 "metadata": {
  "kernelspec": {
   "display_name": "gazetracking",
   "language": "python",
   "name": "python3"
  },
  "language_info": {
   "codemirror_mode": {
    "name": "ipython",
    "version": 3
   },
   "file_extension": ".py",
   "mimetype": "text/x-python",
   "name": "python",
   "nbconvert_exporter": "python",
   "pygments_lexer": "ipython3",
   "version": "3.8.17"
  }
 },
 "nbformat": 4,
 "nbformat_minor": 2
}
